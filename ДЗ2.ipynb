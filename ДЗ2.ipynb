{
  "nbformat": 4,
  "nbformat_minor": 0,
  "metadata": {
    "colab": {
      "name": "ДЗ2.ipynb",
      "provenance": [],
      "authorship_tag": "ABX9TyO2be34zr7BJnbWNi7olde7",
      "include_colab_link": true
    },
    "kernelspec": {
      "name": "python3",
      "display_name": "Python 3"
    },
    "language_info": {
      "name": "python"
    }
  },
  "cells": [
    {
      "cell_type": "markdown",
      "metadata": {
        "id": "view-in-github",
        "colab_type": "text"
      },
      "source": [
        "<a href=\"https://colab.research.google.com/github/Esmielka/My_first_repository/blob/master/%D0%94%D0%972.ipynb\" target=\"_parent\"><img src=\"https://colab.research.google.com/assets/colab-badge.svg\" alt=\"Open In Colab\"/></a>"
      ]
    },
    {
      "cell_type": "code",
      "metadata": {
        "colab": {
          "base_uri": "https://localhost:8080/"
        },
        "id": "j816hY-noYic",
        "outputId": "3b987453-55a4-4d1d-ba06-37986b652228"
      },
      "source": [
        "!pip install amplitude-python-sdk"
      ],
      "execution_count": 1,
      "outputs": [
        {
          "output_type": "stream",
          "name": "stdout",
          "text": [
            "Requirement already satisfied: amplitude-python-sdk in /usr/local/lib/python3.7/dist-packages (0.2.0)\n",
            "Requirement already satisfied: pydantic<2.0.0,>=1.8.1 in /usr/local/lib/python3.7/dist-packages (from amplitude-python-sdk) (1.8.2)\n",
            "Requirement already satisfied: requests<3.0.0,>=2.25.1 in /usr/local/lib/python3.7/dist-packages (from amplitude-python-sdk) (2.26.0)\n",
            "Requirement already satisfied: typing-extensions>=3.7.4.3 in /usr/local/lib/python3.7/dist-packages (from pydantic<2.0.0,>=1.8.1->amplitude-python-sdk) (3.10.0.2)\n",
            "Requirement already satisfied: charset-normalizer~=2.0.0 in /usr/local/lib/python3.7/dist-packages (from requests<3.0.0,>=2.25.1->amplitude-python-sdk) (2.0.7)\n",
            "Requirement already satisfied: urllib3<1.27,>=1.21.1 in /usr/local/lib/python3.7/dist-packages (from requests<3.0.0,>=2.25.1->amplitude-python-sdk) (1.24.3)\n",
            "Requirement already satisfied: certifi>=2017.4.17 in /usr/local/lib/python3.7/dist-packages (from requests<3.0.0,>=2.25.1->amplitude-python-sdk) (2021.10.8)\n",
            "Requirement already satisfied: idna<4,>=2.5 in /usr/local/lib/python3.7/dist-packages (from requests<3.0.0,>=2.25.1->amplitude-python-sdk) (2.10)\n"
          ]
        }
      ]
    },
    {
      "cell_type": "code",
      "metadata": {
        "colab": {
          "base_uri": "https://localhost:8080/",
          "height": 234
        },
        "id": "a0-d5ZwUxMLp",
        "outputId": "137172cd-ee74-4fc7-9d98-d89f078454b1"
      },
      "source": [
        "\n",
        "import time\n",
        "import datetime\n",
        "import uuid\n",
        "\n",
        "from amplitude_python_sdk.common.exceptions import AmplitudeAPIException\n",
        "from amplitude_python_sdk.v2.clients.event_client import EventAPIClient\n",
        "from amplitude_python_sdk.v2.models.event import Event\n",
        "from amplitude_python_sdk.v2.models.event.options import EventAPIOptions\n",
        "\n",
        "client = EventAPIClient(api_key='03f47ff57f9154f82662621e6155c1e3')\n",
        "\n",
        "time_start = (datetime.datetime.now() - datetime.datetime(1970, 1, 1)).total_seconds()\n",
        "id_app = uuid.uuid4().hex\n",
        "my_file = open('myLogger.txt', \"w\")\n",
        "work_time = (datetime.datetime.now() - datetime.datetime(1970, 1, 1)).total_seconds() - time_start\n",
        "\n",
        "def sendEvent(id_app, time_start, work_time):\n",
        "    my_file = open('myLogger.txt', \"w\")\n",
        "    try:\n",
        "        events = [\n",
        "            Event(\n",
        "                user_id='id_app',\n",
        "                event_type='my_work',\n",
        "                event_properties={\n",
        "                    'id_app': id_app,\n",
        "                    'time_start': time_start,\n",
        "                    'work_time': work_time\n",
        "                }\n",
        "            )\n",
        "        ]\n",
        "        client.upload(\n",
        "            events=events,\n",
        "            options=EventAPIOptions(min_id_length=1),\n",
        "        )\n",
        "        return True\n",
        "    except Exception:\n",
        "        my_data_for_event = f'{id_app}:{time_start}:{work_time}'\n",
        "        my_file.write(my_data_for_event)\n",
        "        return False\n",
        "\n",
        "while True:\n",
        "    array = []\n",
        "    flagNoCleaner = False\n",
        "    with open('myLogger.txt') as file:\n",
        "        last_fail_events_array = [row.strip() for row in file]\n",
        "    for event in last_fail_events_array:\n",
        "        sending = sendEvent(event[0], int(event[1]), int(event[2]))\n",
        "        array.append(sending)\n",
        "    for v in array:\n",
        "       if v == False:\n",
        "           flagNoCleaner = True\n",
        "    if flagNoCleaner == False:\n",
        "        with open('myLogger.txt', \"w\") as f:\n",
        "            f.write(\"\")\n",
        "    time.sleep(5)\n",
        "    work_time = (datetime.datetime.now() - datetime.datetime(1970, 1, 1)).total_seconds() - time_start\n",
        "    sendEvent(id_app, time_start, work_time)\n",
        "      \n"
      ],
      "execution_count": 2,
      "outputs": [
        {
          "output_type": "error",
          "ename": "KeyboardInterrupt",
          "evalue": "ignored",
          "traceback": [
            "\u001b[0;31m---------------------------------------------------------------------------\u001b[0m",
            "\u001b[0;31mKeyboardInterrupt\u001b[0m                         Traceback (most recent call last)",
            "\u001b[0;32m<ipython-input-2-ebbad84ba08a>\u001b[0m in \u001b[0;36m<module>\u001b[0;34m()\u001b[0m\n\u001b[1;32m     54\u001b[0m         \u001b[0;32mwith\u001b[0m \u001b[0mopen\u001b[0m\u001b[0;34m(\u001b[0m\u001b[0;34m'myLogger.txt'\u001b[0m\u001b[0;34m,\u001b[0m \u001b[0;34m\"w\"\u001b[0m\u001b[0;34m)\u001b[0m \u001b[0;32mas\u001b[0m \u001b[0mf\u001b[0m\u001b[0;34m:\u001b[0m\u001b[0;34m\u001b[0m\u001b[0;34m\u001b[0m\u001b[0m\n\u001b[1;32m     55\u001b[0m             \u001b[0mf\u001b[0m\u001b[0;34m.\u001b[0m\u001b[0mwrite\u001b[0m\u001b[0;34m(\u001b[0m\u001b[0;34m\"\"\u001b[0m\u001b[0;34m)\u001b[0m\u001b[0;34m\u001b[0m\u001b[0;34m\u001b[0m\u001b[0m\n\u001b[0;32m---> 56\u001b[0;31m     \u001b[0mtime\u001b[0m\u001b[0;34m.\u001b[0m\u001b[0msleep\u001b[0m\u001b[0;34m(\u001b[0m\u001b[0;36m5\u001b[0m\u001b[0;34m)\u001b[0m\u001b[0;34m\u001b[0m\u001b[0;34m\u001b[0m\u001b[0m\n\u001b[0m\u001b[1;32m     57\u001b[0m     \u001b[0mwork_time\u001b[0m \u001b[0;34m=\u001b[0m \u001b[0;34m(\u001b[0m\u001b[0mdatetime\u001b[0m\u001b[0;34m.\u001b[0m\u001b[0mdatetime\u001b[0m\u001b[0;34m.\u001b[0m\u001b[0mnow\u001b[0m\u001b[0;34m(\u001b[0m\u001b[0;34m)\u001b[0m \u001b[0;34m-\u001b[0m \u001b[0mdatetime\u001b[0m\u001b[0;34m.\u001b[0m\u001b[0mdatetime\u001b[0m\u001b[0;34m(\u001b[0m\u001b[0;36m1970\u001b[0m\u001b[0;34m,\u001b[0m \u001b[0;36m1\u001b[0m\u001b[0;34m,\u001b[0m \u001b[0;36m1\u001b[0m\u001b[0;34m)\u001b[0m\u001b[0;34m)\u001b[0m\u001b[0;34m.\u001b[0m\u001b[0mtotal_seconds\u001b[0m\u001b[0;34m(\u001b[0m\u001b[0;34m)\u001b[0m \u001b[0;34m-\u001b[0m \u001b[0mtime_start\u001b[0m\u001b[0;34m\u001b[0m\u001b[0;34m\u001b[0m\u001b[0m\n\u001b[1;32m     58\u001b[0m     \u001b[0msendEvent\u001b[0m\u001b[0;34m(\u001b[0m\u001b[0mid_app\u001b[0m\u001b[0;34m,\u001b[0m \u001b[0mtime_start\u001b[0m\u001b[0;34m,\u001b[0m \u001b[0mwork_time\u001b[0m\u001b[0;34m)\u001b[0m\u001b[0;34m\u001b[0m\u001b[0;34m\u001b[0m\u001b[0m\n",
            "\u001b[0;31mKeyboardInterrupt\u001b[0m: "
          ]
        }
      ]
    }
  ]
}